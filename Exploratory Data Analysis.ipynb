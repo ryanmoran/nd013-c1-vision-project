{
 "cells": [
  {
   "cell_type": "markdown",
   "metadata": {},
   "source": [
    "# Explore the dataset\n",
    "\n",
    "\n",
    "In this notebook, we will perform an EDA (Exploratory Data Analysis) on the processed Waymo dataset (data in the `processed` folder). In the first part, you will create a function to display "
   ]
  },
  {
   "cell_type": "code",
   "execution_count": null,
   "metadata": {},
   "outputs": [],
   "source": [
    "import os\n",
    "import random\n",
    "\n",
    "import matplotlib.pyplot as pyplot\n",
    "import matplotlib.patches as patches\n",
    "import seaborn\n",
    "import tensorflow as tf\n",
    "\n",
    "from utils import get_dataset\n",
    "\n",
    "os.environ['TF_CPP_MIN_LOG_LEVEL'] = '2'\n",
    "tf.get_logger().setLevel(\"ERROR\")"
   ]
  },
  {
   "cell_type": "code",
   "execution_count": null,
   "metadata": {},
   "outputs": [],
   "source": [
    "dataset = get_dataset(\"/data/processed/segment-10023947602400723454_1120_000_1140_000_with_camera_labels.tfrecord\")"
   ]
  },
  {
   "cell_type": "markdown",
   "metadata": {},
   "source": [
    "## Write a function to display an image and the bounding boxes\n",
    "\n",
    "Implement the `display_instances` function below. This function takes a batch as an input and display an image with its corresponding bounding boxes. The only requirement is that the classes should be color coded (eg, vehicles in red, pedestrians in blue, cyclist in green)."
   ]
  },
  {
   "cell_type": "code",
   "execution_count": null,
   "metadata": {},
   "outputs": [],
   "source": [
    "def display_instances(batch):\n",
    "    \"\"\"\n",
    "    This function takes a batch from the dataset and display the image with \n",
    "    the associated bounding boxes.\n",
    "    \"\"\"\n",
    "    for elem in batch.as_numpy_iterator():\n",
    "        image = elem['image']\n",
    "        figw, figh = len(image), len(image[0])\n",
    "        px = 1/pyplot.rcParams['figure.dpi']\n",
    "        fig, ax = pyplot.subplots(figsize=(figw*px, figh*px))\n",
    "        img = ax.imshow(image, interpolation='nearest', extent=(0, figw, figh, 0))\n",
    "        for i, box in enumerate(elem['groundtruth_boxes']):\n",
    "            boxclass = elem['groundtruth_classes'][i]\n",
    "            box = [a * b for a, b in zip(box, [figw, figh, figw, figh])]\n",
    "            anchor = (box[1], box[0])\n",
    "            height = box[2] - box[0]\n",
    "            width = box[3] - box[1]\n",
    "            color = {1: 'r', 2: 'b', 4: 'g'}[boxclass]\n",
    "\n",
    "            patch = patches.Rectangle(anchor, width, height, linewidth=1, edgecolor=color, facecolor='none')\n",
    "            ax.add_patch(patch)\n",
    "        pyplot.axis('off')\n",
    "        \n",
    "        pyplot.show()\n",
    "\n",
    "        "
   ]
  },
  {
   "cell_type": "markdown",
   "metadata": {},
   "source": [
    "## Display 10 images \n",
    "\n",
    "Using the dataset created in the second cell and the function you just coded, display 10 random images with the associated bounding boxes. You can use the methods `take` and `shuffle` on the dataset."
   ]
  },
  {
   "cell_type": "code",
   "execution_count": null,
   "metadata": {
    "scrolled": true
   },
   "outputs": [],
   "source": [
    "%matplotlib inline\n",
    "display_instances(dataset.shuffle(10).take(10))"
   ]
  },
  {
   "cell_type": "markdown",
   "metadata": {},
   "source": [
    "## Additional EDA\n",
    "\n",
    "In this last part, you are free to perform any additional analysis of the dataset. What else would like to know about the data?\n",
    "For example, think about data distribution. So far, you have only looked at a single file..."
   ]
  },
  {
   "cell_type": "code",
   "execution_count": null,
   "metadata": {},
   "outputs": [],
   "source": [
    "def display_random_images(paths):\n",
    "    \"\"\"\n",
    "    Picks and displays 10 random images from the dataset.\n",
    "    \"\"\"\n",
    "    images = []\n",
    "    for path in random.sample(paths, k=10):\n",
    "        dataset = get_dataset(path)\n",
    "        for elem in dataset.shuffle(10).take(1).as_numpy_iterator():\n",
    "            images.append(elem['image'])\n",
    "    \n",
    "    figw, figh = len(images[0]), len(images[0][0])\n",
    "    px = 1/pyplot.rcParams['figure.dpi']\n",
    "    fig, plots = pyplot.subplots(2, 5, figsize=(figw*px*5, figh*px*2))\n",
    "    \n",
    "    for index, image in enumerate(images):\n",
    "        plot = plots[int(index / 5)][index % 5]\n",
    "        plot.imshow(image, interpolation='nearest', extent=(0, figw, figh, 0))\n",
    "        plot.axis('off')\n",
    "        \n",
    "    pyplot.show()\n"
   ]
  },
  {
   "cell_type": "code",
   "execution_count": null,
   "metadata": {
    "scrolled": true
   },
   "outputs": [],
   "source": [
    "paths = []\n",
    "for filename in os.listdir('/data/processed'):\n",
    "    paths.append(f'/data/processed/{filename}')\n",
    "    \n",
    "display_random_images(paths)"
   ]
  },
  {
   "cell_type": "code",
   "execution_count": null,
   "metadata": {},
   "outputs": [],
   "source": [
    "def sample_from(batch, samples):\n",
    "    \"\"\"\n",
    "    This function gathers data by traversing the dataset\n",
    "    and calculating specific metrics including the classes\n",
    "    in the groundtruth data, number and size of bounding\n",
    "    boxes, and average brightness of the images in the batch.\n",
    "    \"\"\"\n",
    "    if 'classes' not in samples:\n",
    "        samples['classes'] = {}\n",
    "    if 'boxes' not in samples:\n",
    "        samples['boxes'] = []\n",
    "    if 'sizes' not in samples:\n",
    "        samples['sizes'] = []\n",
    "    if 'brightness' not in samples:\n",
    "        samples['brightness'] = []\n",
    "    \n",
    "    for elem in batch.as_numpy_iterator():\n",
    "        samples['boxes'].append(len(elem['groundtruth_boxes']))\n",
    "        \n",
    "        image = elem['image']\n",
    "        figw, figh = len(image), len(image[0])\n",
    "        \n",
    "        total = 0\n",
    "        for line in image:\n",
    "            for pixel in line:\n",
    "                for channel in pixel:\n",
    "                    total += channel\n",
    "        \n",
    "        samples['brightness'].append(total / (figw * figh * 3))\n",
    "        \n",
    "        for box in elem['groundtruth_boxes']:\n",
    "            box = [a * b for a, b in zip(box, [figw, figh, figw, figh])]\n",
    "            samples['sizes'].append((box[3] - box[1]) * (box[2] - box[0]))\n",
    "        \n",
    "        for c in list(elem['groundtruth_classes']):\n",
    "            if c in samples['classes'].keys():\n",
    "                samples['classes'][c] = samples['classes'][c] + 1\n",
    "            else:\n",
    "                samples['classes'][c] = 1\n",
    "    return samples\n"
   ]
  },
  {
   "cell_type": "code",
   "execution_count": null,
   "metadata": {},
   "outputs": [],
   "source": [
    "def display_class_distribution(classes):\n",
    "    \"\"\"\n",
    "    Displays a pie chart of the distribution of\n",
    "    classes within the dataset.\n",
    "    \"\"\"\n",
    "    total = 0\n",
    "    for value in samples['classes'].values():\n",
    "        total += value\n",
    "    \n",
    "    dist = {}\n",
    "    for klass in samples['classes'].keys():\n",
    "        percentage = samples['classes'][klass] / total * 100.0\n",
    "        dist[['Unknown', 'Cars', 'Pedestrians', 'Unknown', 'Cyclists'][klass]] = percentage\n",
    "\n",
    "    pyplot.pie(dist.values(), labels=dist.keys(), autopct='%1.1f%%')\n",
    "    pyplot.title('Class Distribution')\n",
    "    pyplot.axis('equal')\n",
    "    pyplot.show()\n",
    "\n",
    "def display_box_count_distribution(boxes):\n",
    "    \"\"\"\n",
    "    Displays a histogram of the distribution of\n",
    "    bounding boxes in each image in the dataset.\n",
    "    \"\"\"\n",
    "    pyplot.hist(boxes, bins=len(boxes))\n",
    "    pyplot.title('Box Count Distribution')\n",
    "    pyplot.show()\n",
    "    \n",
    "def display_box_size_distribution(sizes):\n",
    "    \"\"\"\n",
    "    Displays a histogram of the distribution of\n",
    "    bounding box sizes appearing in the dataset.\n",
    "    \"\"\"\n",
    "    pyplot.hist(sizes, bins=4)\n",
    "    pyplot.title('Box Size Distribution')\n",
    "    pyplot.show()\n",
    "    \n",
    "def display_image_brightness_distribution(brightness):\n",
    "    \"\"\"\n",
    "    Displays a histogram of the distribution of the\n",
    "    average brightness of images in the dataset.\n",
    "    \"\"\"\n",
    "    pyplot.hist(brightness, bins=256)\n",
    "    pyplot.title('Image Brightness Distribution')\n",
    "    pyplot.show()"
   ]
  },
  {
   "cell_type": "code",
   "execution_count": null,
   "metadata": {},
   "outputs": [],
   "source": [
    "samples = {}\n",
    "paths = os.listdir('/data/processed')\n",
    "for index, path in enumerate(paths):\n",
    "    dataset = get_dataset(f'/data/processed/{path}')\n",
    "    samples = sample_from(dataset.shuffle(10).take(10), samples)\n",
    "\n",
    "display_class_distribution(samples['classes'])\n",
    "display_box_count_distribution(samples['boxes'])\n",
    "display_box_size_distribution(samples['sizes'])\n",
    "display_image_brightness_distribution(samples['brightness'])"
   ]
  },
  {
   "cell_type": "code",
   "execution_count": null,
   "metadata": {},
   "outputs": [],
   "source": []
  }
 ],
 "metadata": {
  "kernelspec": {
   "display_name": "Python 3 (ipykernel)",
   "language": "python",
   "name": "python3"
  },
  "language_info": {
   "codemirror_mode": {
    "name": "ipython",
    "version": 3
   },
   "file_extension": ".py",
   "mimetype": "text/x-python",
   "name": "python",
   "nbconvert_exporter": "python",
   "pygments_lexer": "ipython3",
   "version": "3.8.12"
  }
 },
 "nbformat": 4,
 "nbformat_minor": 4
}
